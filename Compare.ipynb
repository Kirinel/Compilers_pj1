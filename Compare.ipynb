{
 "cells": [
  {
   "cell_type": "markdown",
   "metadata": {},
   "source": [
    "### Test1"
   ]
  },
  {
   "cell_type": "code",
   "execution_count": 2,
   "metadata": {},
   "outputs": [
    {
     "name": "stdout",
     "output_type": "stream",
     "text": [
      "no difference found\n"
     ]
    }
   ],
   "source": [
    "with open(\"./test/test1.yaml\", \"r\") as g:\n",
    "    with open(\"./test/test1.ast.yaml\", \"r\") as s:\n",
    "        ct = 0\n",
    "        success = 1\n",
    "        for line1, line2 in zip(g, s):\n",
    "            ct += 1\n",
    "            line1 = line1.strip()\n",
    "            line2 = line2.strip()\n",
    "            #print(line1)\n",
    "            #print(line2)\n",
    "            if line1 != line2:\n",
    "                success = 0\n",
    "                print(line1)\n",
    "                print(line2)\n",
    "                print(ct)\n",
    "                break\n",
    "if success:\n",
    "    print(\"no difference found\")"
   ]
  },
  {
   "cell_type": "markdown",
   "metadata": {},
   "source": [
    "### Test2"
   ]
  },
  {
   "cell_type": "code",
   "execution_count": 1,
   "metadata": {},
   "outputs": [
    {
     "name": "stdout",
     "output_type": "stream",
     "text": [
      "no difference found\n"
     ]
    }
   ],
   "source": [
    "with open(\"./test/test2.yaml\", \"r\") as g:\n",
    "    with open(\"./test/test2.ast.yaml\", \"r\") as s:\n",
    "        ct = 0\n",
    "        success = 1\n",
    "        for line1, line2 in zip(g, s):\n",
    "            ct += 1\n",
    "            line1 = line1.strip()\n",
    "            line2 = line2.strip()\n",
    "            #print(line1)\n",
    "            #print(line2)\n",
    "            if line1 != line2:\n",
    "                success = 0\n",
    "                print(line1)\n",
    "                print(line2)\n",
    "                print(ct)\n",
    "                break\n",
    "if success:\n",
    "    print(\"no difference found\")"
   ]
  }
 ],
 "metadata": {
  "kernelspec": {
   "display_name": "Python 3",
   "language": "python",
   "name": "python3"
  },
  "language_info": {
   "codemirror_mode": {
    "name": "ipython",
    "version": 3
   },
   "file_extension": ".py",
   "mimetype": "text/x-python",
   "name": "python",
   "nbconvert_exporter": "python",
   "pygments_lexer": "ipython3",
   "version": "3.6.5"
  }
 },
 "nbformat": 4,
 "nbformat_minor": 2
}
